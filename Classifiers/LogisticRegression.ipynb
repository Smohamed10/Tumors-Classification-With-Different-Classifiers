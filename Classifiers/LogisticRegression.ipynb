{
 "cells": [
  {
   "cell_type": "code",
   "execution_count": 1,
   "metadata": {},
   "outputs": [],
   "source": [
    "import numpy as np\n",
    "from sklearn import datasets\n",
    "from sklearn.model_selection import train_test_split\n",
    "import pandas as pd\n",
    "from sklearn import preprocessing\n"
   ]
  },
  {
   "cell_type": "code",
   "execution_count": 2,
   "metadata": {},
   "outputs": [],
   "source": [
    "class MyLogisticRegression:\n",
    "    def __init__(self, lr=0.01, num_iter=100000):\n",
    "        self.lr = lr\n",
    "        self.num_iter = num_iter\n",
    "        \n",
    "    \n",
    "    def __sigmoid(self, z):\n",
    "        return 1 / (1 + np.exp(-z))\n",
    "    \n",
    "    def __loss(self, h, y):\n",
    "        return (-y * np.log(h) - (1 - y) * np.log(1 - h)).mean()\n",
    "    \n",
    "    def fit(self, X, y):\n",
    "        # weights initialization\n",
    "        self.theta = np.zeros(X.shape[1])\n",
    "        # Run Gradient Descent\n",
    "        for i in range(self.num_iter):\n",
    "            z = np.dot(X, self.theta)\n",
    "            h = self.__sigmoid(z)\n",
    "            gradient = np.dot(X.T, (h - y)) / y.size\n",
    "            self.theta -= self.lr * gradient\n",
    "            \n",
    "            z = np.dot(X, self.theta)\n",
    "            h = self.__sigmoid(z)\n",
    "            loss = self.__loss(h, y)\n",
    "           # print(loss)\n",
    "            \n",
    "            \n",
    "    def predict_prob(self, X):\n",
    "        return self.__sigmoid(np.dot(X, self.theta))\n",
    "    \n",
    "    def predict(self, X):\n",
    "        return self.predict_prob(X).round()\n"
   ]
  },
  {
   "cell_type": "code",
   "execution_count": 10,
   "metadata": {},
   "outputs": [],
   "source": [
    "df = pd.read_csv('../Dataset/HeartDisease.csv')\n",
    "df['HeartDisease'].unique()\n",
    "label_encoder = preprocessing.LabelEncoder()\n"
   ]
  },
  {
   "cell_type": "code",
   "execution_count": 11,
   "metadata": {},
   "outputs": [],
   "source": [
    "df['HeartDisease'].unique()\n",
    "df['Sex'].unique()\n",
    "df['Sex']=label_encoder.fit_transform(df['Sex'])\n",
    "df['ChestPainType'].unique()\n",
    "df['ChestPainType']=label_encoder.fit_transform(df['ChestPainType'])\n",
    "df['RestingECG'].unique()\n",
    "df['RestingECG']=label_encoder.fit_transform(df['RestingECG'])\n",
    "df['ExerciseAngina'].unique()\n",
    "df['ExerciseAngina']=label_encoder.fit_transform(df['RestingECG'])\n",
    "df['ST_Slope'].unique()\n",
    "df['ST_Slope']=label_encoder.fit_transform(df['RestingECG'])\n"
   ]
  },
  {
   "cell_type": "code",
   "execution_count": 12,
   "metadata": {},
   "outputs": [
    {
     "data": {
      "text/plain": [
       "array([0, 1], dtype=int64)"
      ]
     },
     "execution_count": 12,
     "metadata": {},
     "output_type": "execute_result"
    }
   ],
   "source": [
    "X=df.drop([\"HeartDisease\"],axis=1)\n",
    "target_values = df['HeartDisease'].unique()\n",
    "y=np.array(df['HeartDisease'])\n",
    "df['HeartDisease'].unique()"
   ]
  },
  {
   "cell_type": "code",
   "execution_count": 13,
   "metadata": {},
   "outputs": [],
   "source": [
    "y_list = []\n",
    "for i in range(0 , len(target_values)):\n",
    "    y_list.append((y != i) * 1)\n",
    "    "
   ]
  },
  {
   "cell_type": "code",
   "execution_count": 14,
   "metadata": {},
   "outputs": [
    {
     "name": "stderr",
     "output_type": "stream",
     "text": [
      "C:\\Users\\DELL\\AppData\\Local\\Temp\\ipykernel_23464\\1344257422.py:11: RuntimeWarning: divide by zero encountered in log\n",
      "  return (-y * np.log(h) - (1 - y) * np.log(1 - h)).mean()\n",
      "C:\\Users\\DELL\\AppData\\Local\\Temp\\ipykernel_23464\\1344257422.py:11: RuntimeWarning: invalid value encountered in multiply\n",
      "  return (-y * np.log(h) - (1 - y) * np.log(1 - h)).mean()\n",
      "C:\\Users\\DELL\\AppData\\Local\\Temp\\ipykernel_23464\\1344257422.py:8: RuntimeWarning: overflow encountered in exp\n",
      "  return 1 / (1 + np.exp(-z))\n"
     ]
    }
   ],
   "source": [
    "model_lists = []\n",
    "for i in range(0, len(y_list)):\n",
    "    model = MyLogisticRegression(lr=0.1, num_iter=3000)\n",
    "    model.fit(X, y_list[i])\n",
    "    model_lists.append(model)\n"
   ]
  },
  {
   "cell_type": "code",
   "execution_count": 16,
   "metadata": {},
   "outputs": [
    {
     "name": "stdout",
     "output_type": "stream",
     "text": [
      "1.0\n",
      "0.0\n"
     ]
    }
   ],
   "source": [
    "Z=np.array([60,1,3,150,130,1,1,120,1,2,1])\n",
    "\n",
    "for j in range(0 , len(model_lists)):\n",
    "    preds = model_lists[j].predict(Z)\n",
    "    print(preds)\n"
   ]
  },
  {
   "cell_type": "code",
   "execution_count": 17,
   "metadata": {},
   "outputs": [
    {
     "name": "stdout",
     "output_type": "stream",
     "text": [
      "1.0\n",
      "2.7151875577022445e-83\n"
     ]
    }
   ],
   "source": [
    "for j in range(0 , len(model_lists)):\n",
    "    preds = model_lists[j].predict_prob(Z)\n",
    "    print(preds)"
   ]
  }
 ],
 "metadata": {
  "kernelspec": {
   "display_name": "Python 3",
   "language": "python",
   "name": "python3"
  },
  "language_info": {
   "codemirror_mode": {
    "name": "ipython",
    "version": 3
   },
   "file_extension": ".py",
   "mimetype": "text/x-python",
   "name": "python",
   "nbconvert_exporter": "python",
   "pygments_lexer": "ipython3",
   "version": "3.10.8"
  },
  "orig_nbformat": 4
 },
 "nbformat": 4,
 "nbformat_minor": 2
}
