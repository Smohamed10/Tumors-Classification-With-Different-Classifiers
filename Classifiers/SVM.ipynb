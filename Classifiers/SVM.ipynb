{
 "cells": [
  {
   "cell_type": "code",
   "execution_count": 1,
   "metadata": {},
   "outputs": [],
   "source": [
    "import pandas as pd\n",
    "import numpy as np\n",
    "from sklearn import svm\n",
    "from sklearn.svm import SVC\n",
    "from sklearn.model_selection import train_test_split\n",
    "from sklearn.metrics import accuracy_score, recall_score, precision_score, f1_score\n",
    "from sklearn import preprocessing\n",
    "from sklearn.metrics import confusion_matrix"
   ]
  },
  {
   "cell_type": "code",
   "execution_count": 3,
   "metadata": {},
   "outputs": [],
   "source": [
    "#read the data\n",
    "df = pd.read_csv('../Dataset\\HeartDisease.csv')"
   ]
  },
  {
   "cell_type": "code",
   "execution_count": 5,
   "metadata": {},
   "outputs": [],
   "source": [
    "#lable encooding\n",
    "#for sex\n",
    "df['Sex'].unique()\n",
    "label_encoder = preprocessing.LabelEncoder()\n",
    "df['Sex']= label_encoder.fit_transform(df['Sex'])\n",
    "\n",
    "#for ChestPainType\n",
    "df['ChestPainType'].unique()\n",
    "label_encoder = preprocessing.LabelEncoder()\n",
    "df['ChestPainType']= label_encoder.fit_transform(df['ChestPainType'])\n",
    "\n",
    "#for RestingECG\n",
    "df['RestingECG'].unique()\n",
    "label_encoder = preprocessing.LabelEncoder()\n",
    "df['RestingECG']= label_encoder.fit_transform(df['RestingECG'])\n",
    "\n",
    "#for ExerciseAngina    #0--->false #1-->true\n",
    "df['ExerciseAngina'].unique()\n",
    "label_encoder = preprocessing.LabelEncoder()\n",
    "df['ExerciseAngina']= label_encoder.fit_transform(df['ExerciseAngina'])\n",
    "\n",
    "#for ST_Slope              #up-->2 #down-->0 #flat-->1\n",
    "df['ST_Slope'].unique()\n",
    "label_encoder = preprocessing.LabelEncoder()\n",
    "df['ST_Slope']= label_encoder.fit_transform(df['ST_Slope'])"
   ]
  },
  {
   "cell_type": "code",
   "execution_count": 6,
   "metadata": {},
   "outputs": [],
   "source": [
    "SVM=SVC(kernel=\"linear\")\n",
    "X = df.drop(['HeartDisease'] , axis = 1)"
   ]
  },
  {
   "cell_type": "code",
   "execution_count": 7,
   "metadata": {},
   "outputs": [],
   "source": [
    "Y = np.array(df['HeartDisease'])\n",
    "X_train, X_test, y_train, y_test = train_test_split (X, Y, test_size=0.25)# 25% mn eldata lltest\n",
    "#print(len(X_train))\n",
    "#print(len(X_test))"
   ]
  },
  {
   "cell_type": "code",
   "execution_count": 10,
   "metadata": {},
   "outputs": [],
   "source": [
    "SVM.fit(X_train, y_train)\n",
    "y_pred = SVM.predict(X_test)"
   ]
  },
  {
   "cell_type": "code",
   "execution_count": 12,
   "metadata": {},
   "outputs": [
    {
     "name": "stdout",
     "output_type": "stream",
     "text": [
      "Accuracy: 0.8565217391304348\n",
      "Recall: 0.8512396694214877\n",
      "Precision: 0.8728813559322034\n",
      "F1_score: 0.8619246861924688\n"
     ]
    }
   ],
   "source": [
    "accuracy = accuracy_score(y_test, y_pred)\n",
    "print('Accuracy:', accuracy)\n",
    "recall = recall_score(y_test, y_pred)\n",
    "print('Recall:', recall)\n",
    "precision = precision_score(y_test, y_pred)\n",
    "print('Precision:', precision)\n",
    "f1 = f1_score(y_test,y_pred)\n",
    "print('F1_score:', f1)"
   ]
  },
  {
   "cell_type": "code",
   "execution_count": 14,
   "metadata": {},
   "outputs": [
    {
     "name": "stdout",
     "output_type": "stream",
     "text": [
      "Confusion Matrix:\n",
      "[[ 94  15]\n",
      " [ 18 103]]\n"
     ]
    }
   ],
   "source": [
    "cm = confusion_matrix(y_test, y_pred)\n",
    "print('Confusion Matrix:')\n",
    "print(cm)"
   ]
  }
 ],
 "metadata": {
  "kernelspec": {
   "display_name": "Python 3.11.1 64-bit",
   "language": "python",
   "name": "python3"
  },
  "language_info": {
   "codemirror_mode": {
    "name": "ipython",
    "version": 3
   },
   "file_extension": ".py",
   "mimetype": "text/x-python",
   "name": "python",
   "nbconvert_exporter": "python",
   "pygments_lexer": "ipython3",
   "version": "3.11.1"
  },
  "orig_nbformat": 4,
  "vscode": {
   "interpreter": {
    "hash": "8e2a73f95a0b0781b2baad67e5bc7733078ec2aef527786c6422a708457daada"
   }
  }
 },
 "nbformat": 4,
 "nbformat_minor": 2
}
